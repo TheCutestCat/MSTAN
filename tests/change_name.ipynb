{
 "cells": [
  {
   "cell_type": "code",
   "execution_count": 24,
   "metadata": {
    "collapsed": true
   },
   "outputs": [],
   "source": [
    "import pandas as pd\n",
    "path = '../data/Wind farm site 1 (Nominal capacity-99MW).xlsx'\n",
    "df = pd.read_excel(path)"
   ]
  },
  {
   "cell_type": "code",
   "execution_count": 26,
   "outputs": [],
   "source": [
    "columns = {'Time(year-month-day h:m:s)' : 'time',\n",
    "           'Wind speed at height of 10 meters (m/s)' : 'wind10',\n",
    "           'Wind direction at height of 10 meters (˚)' : 'angle10',\n",
    "           'Wind speed at height of 30 meters (m/s)' : 'wind30',\n",
    "           'Wind direction at height of 30 meters (˚)' : 'angle30',\n",
    "           'Wind speed at height of 50 meters (m/s)' : 'wind50',\n",
    "           'Wind direction at height of 50 meters (˚)' : 'angle50',\n",
    "           'Air temperature  (°C) ' : 'temp',\n",
    "           'Atmosphere (hpa)' : 'atmosphere',\n",
    "           'Relative humidity (%)' : 'humidity',\n",
    "           'Power (MW)' : 'power'\n",
    "       }\n",
    "df.rename(columns=columns, inplace=True)"
   ],
   "metadata": {
    "collapsed": false
   }
  },
  {
   "cell_type": "code",
   "execution_count": 27,
   "outputs": [
    {
     "data": {
      "text/plain": "Index(['time', 'wind10', 'angle10', 'temp', 'atmosphere', 'humidity', 'power'], dtype='object')"
     },
     "execution_count": 27,
     "metadata": {},
     "output_type": "execute_result"
    }
   ],
   "source": [
    "drop_list = ['Wind speed - at the height of wheel hub (m/s)','Wind speed - at the height of wheel hub (˚)','wind30','angle30','wind50','angle50']\n",
    "df.drop(drop_list, axis=1,inplace=True)\n",
    "df.columns"
   ],
   "metadata": {
    "collapsed": false
   }
  },
  {
   "cell_type": "code",
   "execution_count": 28,
   "outputs": [],
   "source": [
    "import numpy as np\n",
    "def encode_month(month,day):\n",
    "    return (month*31 + day)/100 #转换单位\n",
    "def encode_hour(hour,minute):\n",
    "    return (hour * 4 + minute/15)/24 #转换单位\n",
    "def encode_cos(angle):\n",
    "    return np.cos(angle)\n",
    "def reduce_atmosphere(atmosphere):\n",
    "    return atmosphere/800\n"
   ],
   "metadata": {
    "collapsed": false
   }
  },
  {
   "cell_type": "code",
   "execution_count": 29,
   "outputs": [
    {
     "data": {
      "text/plain": "Index(['time', 'wind10', 'angle10', 'temp', 'atmosphere', 'humidity', 'power',\n       'timestamp', 'year', 'month', 'day', 'hour', 'minute', 'second',\n       'en_month', 'en_hour', 'en_cos_angle'],\n      dtype='object')"
     },
     "execution_count": 29,
     "metadata": {},
     "output_type": "execute_result"
    }
   ],
   "source": [
    "df['timestamp'] = pd.to_datetime(df['time'])\n",
    "df['year'] = df['timestamp'].dt.year\n",
    "df['month'] = df['timestamp'].dt.month\n",
    "df['day'] = df['timestamp'].dt.day\n",
    "df['hour'] = df['timestamp'].dt.hour\n",
    "df['minute'] = df['timestamp'].dt.minute\n",
    "df['second'] = df['timestamp'].dt.second\n",
    "df['en_month'] = df.apply(lambda row: encode_month(row['month'], row['day']), axis=1)\n",
    "df['en_hour'] = df.apply(lambda row: encode_hour(row['hour'], row['minute']), axis=1)\n",
    "df['en_cos_angle'] = df.apply(lambda row: encode_cos(row['angle10']), axis=1)\n",
    "df['atmosphere'] = df.apply(lambda row: encode_cos(row['atmosphere']), axis=1) #reduce the atmosphere range to 1\n",
    "df.columns"
   ],
   "metadata": {
    "collapsed": false
   }
  },
  {
   "cell_type": "code",
   "execution_count": 31,
   "outputs": [
    {
     "data": {
      "text/plain": "Index(['wind10', 'temp', 'atmosphere', 'humidity', 'power', 'en_month',\n       'en_hour', 'en_cos_angle'],\n      dtype='object')"
     },
     "execution_count": 31,
     "metadata": {},
     "output_type": "execute_result"
    }
   ],
   "source": [
    "drop_list = ['time','angle10','timestamp','year','month','day','hour','minute','second']\n",
    "df.drop(drop_list, axis=1,inplace=True)\n",
    "df.columns"
   ],
   "metadata": {
    "collapsed": false
   }
  },
  {
   "cell_type": "code",
   "execution_count": 33,
   "outputs": [],
   "source": [
    "df['atmosphere'] = df.apply(lambda row: encode_cos(row['atmosphere']), axis=1)"
   ],
   "metadata": {
    "collapsed": false
   }
  },
  {
   "cell_type": "code",
   "execution_count": 39,
   "outputs": [],
   "source": [
    "df = df.loc[:500,:]\n",
    "df.to_csv('../data/clean_data_500.csv')"
   ],
   "metadata": {
    "collapsed": false
   }
  },
  {
   "cell_type": "code",
   "execution_count": 36,
   "outputs": [
    {
     "data": {
      "text/plain": "RangeIndex(start=0, stop=70176, step=1)"
     },
     "execution_count": 36,
     "metadata": {},
     "output_type": "execute_result"
    }
   ],
   "source": [
    "df.index"
   ],
   "metadata": {
    "collapsed": false
   }
  },
  {
   "cell_type": "code",
   "execution_count": null,
   "outputs": [],
   "source": [],
   "metadata": {
    "collapsed": false
   }
  }
 ],
 "metadata": {
  "kernelspec": {
   "display_name": "Python 3",
   "language": "python",
   "name": "python3"
  },
  "language_info": {
   "codemirror_mode": {
    "name": "ipython",
    "version": 2
   },
   "file_extension": ".py",
   "mimetype": "text/x-python",
   "name": "python",
   "nbconvert_exporter": "python",
   "pygments_lexer": "ipython2",
   "version": "2.7.6"
  }
 },
 "nbformat": 4,
 "nbformat_minor": 0
}
