{
 "cells": [
  {
   "cell_type": "code",
   "execution_count": 1,
   "metadata": {
    "collapsed": true
   },
   "outputs": [],
   "source": [
    "import pandas as pd\n",
    "path = '../data/Wind farm site 1 (Nominal capacity-99MW).xlsx'\n",
    "df = pd.read_excel(path)"
   ]
  },
  {
   "cell_type": "code",
   "execution_count": null,
   "outputs": [],
   "source": [],
   "metadata": {
    "collapsed": false
   }
  },
  {
   "cell_type": "code",
   "execution_count": 13,
   "outputs": [],
   "source": [
    "df_n.to_csv('../data/test_small_data.csv')"
   ],
   "metadata": {
    "collapsed": false
   }
  },
  {
   "cell_type": "code",
   "execution_count": 4,
   "outputs": [],
   "source": [
    "columns = {'Time(year-month-day h:m:s)' : 'time',\n",
    "           'Wind speed at height of 10 meters (m/s)' : 'wind10',\n",
    "           'Wind direction at height of 10 meters (˚)' : 'angle10',\n",
    "           'Wind speed at height of 30 meters (m/s)' : 'wind30',\n",
    "           'Wind direction at height of 30 meters (˚)' : 'angle30',\n",
    "           'Wind speed at height of 50 meters (m/s)' : 'wind50',\n",
    "           'Wind direction at height of 50 meters (˚)' : 'angle50',\n",
    "           'Air temperature  (°C) ' : 'temp',\n",
    "           'Atmosphere (hpa)' : 'atmosphere',\n",
    "           'Relative humidity (%)' : 'humidity',\n",
    "           'Power (MW)' : 'power'\n",
    "       }\n",
    "index = ['time','wind10','angle10','wind30','angle30','wind50','angle50','temp','atmosphere','humidity','power']"
   ],
   "metadata": {
    "collapsed": false
   }
  },
  {
   "cell_type": "code",
   "execution_count": 4,
   "outputs": [],
   "source": [
    "df.rename(columns=columns, inplace=True)"
   ],
   "metadata": {
    "collapsed": false
   }
  },
  {
   "cell_type": "code",
   "execution_count": 5,
   "outputs": [],
   "source": [
    "df = df.to_csv('../data/complete_data_changed_name.csv')"
   ],
   "metadata": {
    "collapsed": false
   }
  },
  {
   "cell_type": "code",
   "execution_count": 8,
   "outputs": [
    {
     "data": {
      "text/plain": "RangeIndex(start=0, stop=70176, step=1)"
     },
     "execution_count": 8,
     "metadata": {},
     "output_type": "execute_result"
    }
   ],
   "source": [
    "df.index"
   ],
   "metadata": {
    "collapsed": false
   }
  },
  {
   "cell_type": "code",
   "execution_count": null,
   "outputs": [],
   "source": [
    "df.to_csv('../data/clean_big_data.csv')"
   ],
   "metadata": {
    "collapsed": false
   }
  },
  {
   "cell_type": "code",
   "execution_count": 9,
   "outputs": [
    {
     "data": {
      "text/plain": "RangeIndex(start=0, stop=20000, step=1)"
     },
     "execution_count": 9,
     "metadata": {},
     "output_type": "execute_result"
    }
   ],
   "source": [
    "data = pd.read_csv('../data/clean_data.csv')\n",
    "data.index"
   ],
   "metadata": {
    "collapsed": false
   }
  },
  {
   "cell_type": "code",
   "execution_count": 10,
   "outputs": [
    {
     "data": {
      "text/plain": "79.7"
     },
     "execution_count": 10,
     "metadata": {},
     "output_type": "execute_result"
    }
   ],
   "source": [
    "data['power'].max()"
   ],
   "metadata": {
    "collapsed": false
   }
  },
  {
   "cell_type": "code",
   "execution_count": 18,
   "outputs": [
    {
     "name": "stdout",
     "output_type": "stream",
     "text": [
      "torch.Size([10, 1])\n"
     ]
    }
   ],
   "source": [
    "import torch\n",
    "\n",
    "# 定义向量 A 和向量 B\n",
    "A = torch.randn(10, 3)\n",
    "B = torch.randn(10, 3)\n",
    "C = torch.sum(torch.mul(A, B), dim=1, keepdim=True)\n",
    "\n",
    "\n",
    "# 打印结果\n",
    "print(C.shape)"
   ],
   "metadata": {
    "collapsed": false
   }
  },
  {
   "cell_type": "code",
   "execution_count": 20,
   "outputs": [],
   "source": [
    "import torch.nn as nn\n",
    "\n",
    "linear_layer = nn.Linear(9, 6)\n",
    "input_tensor = torch.randn(32, 10, 9)\n",
    "output_tensor = linear_layer(input_tensor)"
   ],
   "metadata": {
    "collapsed": false
   }
  },
  {
   "cell_type": "code",
   "execution_count": 22,
   "outputs": [
    {
     "data": {
      "text/plain": "torch.Size([32, 10, 6])"
     },
     "execution_count": 22,
     "metadata": {},
     "output_type": "execute_result"
    }
   ],
   "source": [
    "input_tensor.shape\n",
    "output_tensor.shape"
   ],
   "metadata": {
    "collapsed": false
   }
  },
  {
   "cell_type": "code",
   "execution_count": null,
   "outputs": [],
   "source": [],
   "metadata": {
    "collapsed": false
   }
  }
 ],
 "metadata": {
  "kernelspec": {
   "display_name": "Python 3",
   "language": "python",
   "name": "python3"
  },
  "language_info": {
   "codemirror_mode": {
    "name": "ipython",
    "version": 2
   },
   "file_extension": ".py",
   "mimetype": "text/x-python",
   "name": "python",
   "nbconvert_exporter": "python",
   "pygments_lexer": "ipython2",
   "version": "2.7.6"
  }
 },
 "nbformat": 4,
 "nbformat_minor": 0
}
