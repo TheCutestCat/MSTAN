{
 "cells": [
  {
   "cell_type": "code",
   "execution_count": 1,
   "metadata": {
    "collapsed": true
   },
   "outputs": [],
   "source": [
    "import pandas as pd\n",
    "path = '../data/clean_data.csv'\n",
    "df = pd.read_csv(path)"
   ]
  },
  {
   "cell_type": "code",
   "execution_count": 3,
   "outputs": [],
   "source": [
    "df_n = df.iloc[:2000,:]"
   ],
   "metadata": {
    "collapsed": false
   }
  },
  {
   "cell_type": "code",
   "execution_count": 12,
   "outputs": [
    {
     "name": "stdout",
     "output_type": "stream",
     "text": [
      "<class 'pandas.core.frame.DataFrame'>\n",
      "RangeIndex: 2000 entries, 0 to 1999\n",
      "Data columns (total 10 columns):\n",
      " #   Column      Non-Null Count  Dtype  \n",
      "---  ------      --------------  -----  \n",
      " 0   wind10      2000 non-null   float64\n",
      " 1   angle10     2000 non-null   float64\n",
      " 2   wind30      2000 non-null   float64\n",
      " 3   angle30     2000 non-null   float64\n",
      " 4   wind50      2000 non-null   float64\n",
      " 5   angle50     2000 non-null   float64\n",
      " 6   temp        2000 non-null   float64\n",
      " 7   atmosphere  2000 non-null   float64\n",
      " 8   humidity    2000 non-null   float64\n",
      " 9   power       2000 non-null   float64\n",
      "dtypes: float64(10)\n",
      "memory usage: 156.4 KB\n"
     ]
    }
   ],
   "source": [
    "df_n.info()"
   ],
   "metadata": {
    "collapsed": false
   }
  },
  {
   "cell_type": "code",
   "execution_count": 13,
   "outputs": [],
   "source": [
    "df_n.to_csv('../data/test_small_data.csv')"
   ],
   "metadata": {
    "collapsed": false
   }
  },
  {
   "cell_type": "code",
   "execution_count": 30,
   "outputs": [],
   "source": [
    "columns = {'Time(year-month-day h:m:s)' : 'time',\n",
    "           'Wind speed at height of 10 meters (m/s)' : 'wind10',\n",
    "           'Wind direction at height of 10 meters (˚)' : 'angle10',\n",
    "           'Wind speed at height of 30 meters (m/s)' : 'wind30',\n",
    "           'Wind direction at height of 30 meters (˚)' : 'angle30',\n",
    "           'Wind speed at height of 50 meters (m/s)' : 'wind50',\n",
    "           'Wind direction at height of 50 meters (˚)' : 'angle50',\n",
    "           'Air temperature  (°C) ' : 'temp',\n",
    "           'Atmosphere (hpa)' : 'atmosphere',\n",
    "           'Relative humidity (%)' : 'humidity',\n",
    "           'Power (MW)' : 'power'\n",
    "       }\n",
    "index = ['time','wind10','angle10','wind30','angle30','wind50','angle50','temp','atmosphere','humidity','power']"
   ],
   "metadata": {
    "collapsed": false
   }
  },
  {
   "cell_type": "code",
   "execution_count": 31,
   "outputs": [],
   "source": [
    "df = df.loc[:, index]"
   ],
   "metadata": {
    "collapsed": false
   }
  },
  {
   "cell_type": "code",
   "execution_count": 35,
   "outputs": [],
   "source": [
    "df.to_csv('../data/clean_data.csv')"
   ],
   "metadata": {
    "collapsed": false
   }
  },
  {
   "cell_type": "code",
   "execution_count": 37,
   "outputs": [
    {
     "data": {
      "text/plain": "RangeIndex(start=0, stop=20000, step=1)"
     },
     "execution_count": 37,
     "metadata": {},
     "output_type": "execute_result"
    }
   ],
   "source": [
    "data = pd.read_csv('../data/clean_data.csv')\n",
    "data.index"
   ],
   "metadata": {
    "collapsed": false
   }
  },
  {
   "cell_type": "code",
   "execution_count": 18,
   "outputs": [
    {
     "name": "stdout",
     "output_type": "stream",
     "text": [
      "torch.Size([10, 1])\n"
     ]
    }
   ],
   "source": [
    "import torch\n",
    "\n",
    "# 定义向量 A 和向量 B\n",
    "A = torch.randn(10, 3)\n",
    "B = torch.randn(10, 3)\n",
    "C = torch.sum(torch.mul(A, B), dim=1, keepdim=True)\n",
    "\n",
    "\n",
    "# 打印结果\n",
    "print(C.shape)"
   ],
   "metadata": {
    "collapsed": false
   }
  },
  {
   "cell_type": "code",
   "execution_count": 20,
   "outputs": [],
   "source": [
    "import torch.nn as nn\n",
    "\n",
    "linear_layer = nn.Linear(9, 6)\n",
    "input_tensor = torch.randn(32, 10, 9)\n",
    "output_tensor = linear_layer(input_tensor)"
   ],
   "metadata": {
    "collapsed": false
   }
  },
  {
   "cell_type": "code",
   "execution_count": 22,
   "outputs": [
    {
     "data": {
      "text/plain": "torch.Size([32, 10, 6])"
     },
     "execution_count": 22,
     "metadata": {},
     "output_type": "execute_result"
    }
   ],
   "source": [
    "input_tensor.shape\n",
    "output_tensor.shape"
   ],
   "metadata": {
    "collapsed": false
   }
  },
  {
   "cell_type": "code",
   "execution_count": null,
   "outputs": [],
   "source": [],
   "metadata": {
    "collapsed": false
   }
  }
 ],
 "metadata": {
  "kernelspec": {
   "display_name": "Python 3",
   "language": "python",
   "name": "python3"
  },
  "language_info": {
   "codemirror_mode": {
    "name": "ipython",
    "version": 2
   },
   "file_extension": ".py",
   "mimetype": "text/x-python",
   "name": "python",
   "nbconvert_exporter": "python",
   "pygments_lexer": "ipython2",
   "version": "2.7.6"
  }
 },
 "nbformat": 4,
 "nbformat_minor": 0
}
