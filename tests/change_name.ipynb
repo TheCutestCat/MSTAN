{
 "cells": [
  {
   "cell_type": "code",
   "execution_count": 20,
   "metadata": {
    "collapsed": true
   },
   "outputs": [],
   "source": [
    "import pandas as pd\n",
    "path = '../data/power_exemple.csv'\n",
    "df = pd.read_csv(path)"
   ]
  },
  {
   "cell_type": "code",
   "execution_count": 21,
   "outputs": [
    {
     "name": "stdout",
     "output_type": "stream",
     "text": [
      "<class 'pandas.core.frame.DataFrame'>\n",
      "RangeIndex: 20000 entries, 0 to 19999\n",
      "Data columns (total 14 columns):\n",
      " #   Column                                         Non-Null Count  Dtype  \n",
      "---  ------                                         --------------  -----  \n",
      " 0   Unnamed: 0                                     20000 non-null  int64  \n",
      " 1   Time(year-month-day h:m:s)                     20000 non-null  object \n",
      " 2   Wind speed at height of 10 meters (m/s)        20000 non-null  float64\n",
      " 3   Wind direction at height of 10 meters (˚)      20000 non-null  float64\n",
      " 4   Wind speed at height of 30 meters (m/s)        20000 non-null  float64\n",
      " 5   Wind direction at height of 30 meters (˚)      20000 non-null  float64\n",
      " 6   Wind speed at height of 50 meters (m/s)        20000 non-null  float64\n",
      " 7   Wind direction at height of 50 meters (˚)      20000 non-null  float64\n",
      " 8   Wind speed - at the height of wheel hub (m/s)  20000 non-null  float64\n",
      " 9   Wind speed - at the height of wheel hub (˚)    20000 non-null  float64\n",
      " 10  Air temperature  (°C)                          20000 non-null  float64\n",
      " 11  Atmosphere (hpa)                               20000 non-null  float64\n",
      " 12  Relative humidity (%)                          20000 non-null  float64\n",
      " 13  Power (MW)                                     20000 non-null  float64\n",
      "dtypes: float64(12), int64(1), object(1)\n",
      "memory usage: 2.1+ MB\n"
     ]
    }
   ],
   "source": [
    "df.info()"
   ],
   "metadata": {
    "collapsed": false
   }
  },
  {
   "cell_type": "code",
   "execution_count": 22,
   "outputs": [
    {
     "data": {
      "text/plain": "Index(['Unnamed: 0', 'Time(year-month-day h:m:s)',\n       'Wind speed at height of 10 meters (m/s)',\n       'Wind direction at height of 10 meters (˚)',\n       'Wind speed at height of 30 meters (m/s)',\n       'Wind direction at height of 30 meters (˚)',\n       'Wind speed at height of 50 meters (m/s)',\n       'Wind direction at height of 50 meters (˚)',\n       'Wind speed - at the height of wheel hub (m/s)',\n       'Wind speed - at the height of wheel hub (˚)', 'Air temperature  (°C) ',\n       'Atmosphere (hpa)', 'Relative humidity (%)', 'Power (MW)'],\n      dtype='object')"
     },
     "execution_count": 22,
     "metadata": {},
     "output_type": "execute_result"
    }
   ],
   "source": [
    "df.columns"
   ],
   "metadata": {
    "collapsed": false
   }
  },
  {
   "cell_type": "code",
   "execution_count": 30,
   "outputs": [],
   "source": [
    "columns = {'Time(year-month-day h:m:s)' : 'time',\n",
    "           'Wind speed at height of 10 meters (m/s)' : 'wind10',\n",
    "           'Wind direction at height of 10 meters (˚)' : 'angle10',\n",
    "           'Wind speed at height of 30 meters (m/s)' : 'wind30',\n",
    "           'Wind direction at height of 30 meters (˚)' : 'angle30',\n",
    "           'Wind speed at height of 50 meters (m/s)' : 'wind50',\n",
    "           'Wind direction at height of 50 meters (˚)' : 'angle50',\n",
    "           'Air temperature  (°C) ' : 'temp',\n",
    "           'Atmosphere (hpa)' : 'atmosphere',\n",
    "           'Relative humidity (%)' : 'humidity',\n",
    "           'Power (MW)' : 'power'\n",
    "       }\n",
    "index = ['time','wind10','angle10','wind30','angle30','wind50','angle50','temp','atmosphere','humidity','power']"
   ],
   "metadata": {
    "collapsed": false
   }
  },
  {
   "cell_type": "code",
   "execution_count": 31,
   "outputs": [],
   "source": [
    "df = df.loc[:, index]"
   ],
   "metadata": {
    "collapsed": false
   }
  },
  {
   "cell_type": "code",
   "execution_count": 35,
   "outputs": [],
   "source": [
    "df.to_csv('../data/clean_data.csv')"
   ],
   "metadata": {
    "collapsed": false
   }
  },
  {
   "cell_type": "code",
   "execution_count": 37,
   "outputs": [
    {
     "data": {
      "text/plain": "RangeIndex(start=0, stop=20000, step=1)"
     },
     "execution_count": 37,
     "metadata": {},
     "output_type": "execute_result"
    }
   ],
   "source": [
    "data = pd.read_csv('../data/clean_data.csv')\n",
    "data.index"
   ],
   "metadata": {
    "collapsed": false
   }
  },
  {
   "cell_type": "code",
   "execution_count": null,
   "outputs": [],
   "source": [],
   "metadata": {
    "collapsed": false
   }
  }
 ],
 "metadata": {
  "kernelspec": {
   "display_name": "Python 3",
   "language": "python",
   "name": "python3"
  },
  "language_info": {
   "codemirror_mode": {
    "name": "ipython",
    "version": 2
   },
   "file_extension": ".py",
   "mimetype": "text/x-python",
   "name": "python",
   "nbconvert_exporter": "python",
   "pygments_lexer": "ipython2",
   "version": "2.7.6"
  }
 },
 "nbformat": 4,
 "nbformat_minor": 0
}
